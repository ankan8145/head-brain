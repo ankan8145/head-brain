{
 "cells": [
  {
   "cell_type": "code",
   "execution_count": 1,
   "id": "24cb82da",
   "metadata": {},
   "outputs": [
    {
     "name": "stdout",
     "output_type": "stream",
     "text": [
      "(237, 4)\n"
     ]
    },
    {
     "data": {
      "text/html": [
       "<div>\n",
       "<style scoped>\n",
       "    .dataframe tbody tr th:only-of-type {\n",
       "        vertical-align: middle;\n",
       "    }\n",
       "\n",
       "    .dataframe tbody tr th {\n",
       "        vertical-align: top;\n",
       "    }\n",
       "\n",
       "    .dataframe thead th {\n",
       "        text-align: right;\n",
       "    }\n",
       "</style>\n",
       "<table border=\"1\" class=\"dataframe\">\n",
       "  <thead>\n",
       "    <tr style=\"text-align: right;\">\n",
       "      <th></th>\n",
       "      <th>Gender</th>\n",
       "      <th>Age Range</th>\n",
       "      <th>Head Size(cm^3)</th>\n",
       "      <th>Brain Weight(grams)</th>\n",
       "    </tr>\n",
       "  </thead>\n",
       "  <tbody>\n",
       "    <tr>\n",
       "      <th>0</th>\n",
       "      <td>1</td>\n",
       "      <td>1</td>\n",
       "      <td>4512</td>\n",
       "      <td>1530</td>\n",
       "    </tr>\n",
       "    <tr>\n",
       "      <th>1</th>\n",
       "      <td>1</td>\n",
       "      <td>1</td>\n",
       "      <td>3738</td>\n",
       "      <td>1297</td>\n",
       "    </tr>\n",
       "    <tr>\n",
       "      <th>2</th>\n",
       "      <td>1</td>\n",
       "      <td>1</td>\n",
       "      <td>4261</td>\n",
       "      <td>1335</td>\n",
       "    </tr>\n",
       "    <tr>\n",
       "      <th>3</th>\n",
       "      <td>1</td>\n",
       "      <td>1</td>\n",
       "      <td>3777</td>\n",
       "      <td>1282</td>\n",
       "    </tr>\n",
       "    <tr>\n",
       "      <th>4</th>\n",
       "      <td>1</td>\n",
       "      <td>1</td>\n",
       "      <td>4177</td>\n",
       "      <td>1590</td>\n",
       "    </tr>\n",
       "  </tbody>\n",
       "</table>\n",
       "</div>"
      ],
      "text/plain": [
       "   Gender  Age Range  Head Size(cm^3)  Brain Weight(grams)\n",
       "0       1          1             4512                 1530\n",
       "1       1          1             3738                 1297\n",
       "2       1          1             4261                 1335\n",
       "3       1          1             3777                 1282\n",
       "4       1          1             4177                 1590"
      ]
     },
     "execution_count": 1,
     "metadata": {},
     "output_type": "execute_result"
    }
   ],
   "source": [
    "%matplotlib inline\n",
    "import numpy as np\n",
    "import pandas as pd\n",
    "from sklearn import datasets\n",
    "import matplotlib.pyplot as plt\n",
    "# plt.rcParams['figure.figsize'] = (20.0, 10.0)\n",
    "\n",
    "# Reading data\n",
    "data = pd.read_csv('headbrain.csv')\n",
    "print(data.shape)\n",
    "data.head()"
   ]
  },
  {
   "cell_type": "code",
   "execution_count": 8,
   "id": "6a54e0bf",
   "metadata": {},
   "outputs": [
    {
     "name": "stdout",
     "output_type": "stream",
     "text": [
      "<class 'pandas.core.frame.DataFrame'>\n",
      "Int64Index: 236 entries, 1 to 236\n",
      "Data columns (total 4 columns):\n",
      " #   Column               Non-Null Count  Dtype\n",
      "---  ------               --------------  -----\n",
      " 0   Gender               236 non-null    int64\n",
      " 1   Age Range            236 non-null    int64\n",
      " 2   Head Size(cm^3)      236 non-null    int64\n",
      " 3   Brain Weight(grams)  236 non-null    int64\n",
      "dtypes: int64(4)\n",
      "memory usage: 9.2 KB\n"
     ]
    }
   ],
   "source": [
    "data.info()"
   ]
  },
  {
   "cell_type": "code",
   "execution_count": 9,
   "id": "d1a6eda8",
   "metadata": {},
   "outputs": [
    {
     "data": {
      "text/plain": [
       "Gender                 0\n",
       "Age Range              0\n",
       "Head Size(cm^3)        0\n",
       "Brain Weight(grams)    0\n",
       "dtype: int64"
      ]
     },
     "execution_count": 9,
     "metadata": {},
     "output_type": "execute_result"
    }
   ],
   "source": [
    "data.isnull().sum()"
   ]
  },
  {
   "cell_type": "code",
   "execution_count": 2,
   "id": "2c30aba2",
   "metadata": {},
   "outputs": [],
   "source": [
    "from sklearn.model_selection import train_test_split\n",
    "\n",
    "#Collecting X and Y\n",
    "data = data.drop([0], axis=0)\n",
    "X = data['Head Size(cm^3)'].values\n",
    "Y = data['Brain Weight(grams)'].values\n",
    "\n",
    "# Test\n",
    "x_train, x_test, y_train, y_test = train_test_split( X, Y, test_size=0.50, random_state=42, shuffle=True)"
   ]
  },
  {
   "cell_type": "code",
   "execution_count": 3,
   "id": "931dc4a6",
   "metadata": {},
   "outputs": [
    {
     "name": "stdout",
     "output_type": "stream",
     "text": [
      "0.2656258648565125 311.9474594713247\n"
     ]
    }
   ],
   "source": [
    "# Mean X and Y\n",
    "\n",
    "mean_x = np.mean(x_train)\n",
    "mean_y = np.mean(y_train)\n",
    "\n",
    "# Total number of values\n",
    "length_x_train = len(x_train)\n",
    "\n",
    "# Using the formula to calculate b1 and b0\n",
    "numer = 0\n",
    "demon = 0\n",
    "for i in range(length_x_train):\n",
    "    numer += (X[i] -mean_x) * (Y[i] - mean_y)\n",
    "    demon += (X[i] - mean_x) ** 2\n",
    "m = numer / demon  # m\n",
    "c = mean_y - (m * mean_x)  # c \n",
    "# y = mx + c\n",
    "# Print Cofficients\n",
    "print(m, c)"
   ]
  },
  {
   "cell_type": "code",
   "execution_count": 4,
   "id": "7d0c3b75",
   "metadata": {},
   "outputs": [
    {
     "data": {
      "image/png": "[encoded data removed]",
      "text/plain": [
       "<Figure size 432x288 with 1 Axes>"
      ]
     },
     "metadata": {
      "needs_background": "light"
     },
     "output_type": "display_data"
    }
   ],
   "source": [
    "# Plotting the points\n",
    "plt.scatter(x_train, y_train, color = 'g', label = 'Scatter Plot')\n",
    "plt.xlabel('Head Size(cm^3')\n",
    "plt.ylabel('Brain Weight(grams)')\n",
    "\n",
    "x = np.linspace( np.amin(x_train)-100, np.amax(x_train)+100, 1000 )\n",
    "y = m*x + c\n",
    "\n",
    "# Ploting Line\n",
    "plt.plot(x, y, '-r', label='y=2x+1 Regression Line')\n",
    "plt.title('Graph of y=2x+1')\n",
    "plt.legend()\n",
    "plt.show()"
   ]
  },
  {
   "cell_type": "code",
   "execution_count": 5,
   "id": "507ed2ed",
   "metadata": {},
   "outputs": [
    {
     "name": "stdout",
     "output_type": "stream",
     "text": [
      "0.6387289988758657\n"
     ]
    }
   ],
   "source": [
    "import math\n",
    "d =0\n",
    "n = 0\n",
    "for i in range(length_x_train):\n",
    "    y_p = m*X[i] + c \n",
    "    n += (y_p - mean_y) **2\n",
    "    d += (Y[i] - mean_y)**2\n",
    "\n",
    "\n",
    "R = math.sqrt(1- n/d)\n",
    "print(R)"
   ]
  },
  {
   "cell_type": "code",
   "execution_count": 6,
   "id": "b5a96398",
   "metadata": {},
   "outputs": [],
   "source": [
    "from sklearn import linear_model\n",
    "from sklearn.metrics import mean_squared_error\n",
    "\n",
    "model = linear_model.LinearRegression()\n",
    "model.fit([x_train], [y_train])\n",
    "y_pred = model.predict([x_test])\n",
    "y_pred = y_pred.reshape(-1) "
   ]
  },
  {
   "cell_type": "code",
   "execution_count": 7,
   "id": "0ef076e5",
   "metadata": {},
   "outputs": [
    {
     "name": "stdout",
     "output_type": "stream",
     "text": [
      "Coefficients: \n",
      " [[0. 0. 0. ... 0. 0. 0.]\n",
      " [0. 0. 0. ... 0. 0. 0.]\n",
      " [0. 0. 0. ... 0. 0. 0.]\n",
      " ...\n",
      " [0. 0. 0. ... 0. 0. 0.]\n",
      " [0. 0. 0. ... 0. 0. 0.]\n",
      " [0. 0. 0. ... 0. 0. 0.]]\n",
      "Mean squared error:  27183.415254237287\n",
      "Coefficient of determination:  -0.7668225849147419\n"
     ]
    },
    {
     "data": {
      "image/png": "[encoded data removed]",
      "text/plain": [
       "<Figure size 432x288 with 1 Axes>"
      ]
     },
     "metadata": {
      "needs_background": "light"
     },
     "output_type": "display_data"
    }
   ],
   "source": [
    "from sklearn.metrics import r2_score\n",
    "\n",
    "# The coefficients\n",
    "print(\"Coefficients: \\n\", model.coef_)\n",
    "# The mean squared error\n",
    "print(\"Mean squared error: \" , mean_squared_error(y_test,y_pred) )\n",
    "# The coefficient of determination: 1 is perfect prediction\n",
    "print(\"Coefficient of determination: \" , r2_score(y_test, y_pred))\n",
    "\n",
    "# Plot outputs\n",
    "plt.scatter(x_test, y_test, color=\"black\")\n",
    "# plt.plot(x_test, y_pred, color=\"blue\")\n",
    "# plt.plot(y_test, color=\"black\")\n",
    "# plt.plot(y_pred, color=\"blue\", ls=\"--\")\n",
    "\n",
    "\n",
    "mean_x_test = np.mean(x_test)\n",
    "mean_y_pred = np.mean(y_pred)\n",
    "\n",
    "# Total number of values\n",
    "length_x_test = len(x_test)\n",
    "\n",
    "# Using the formula to calculate b1 and b0\n",
    "numer = 0\n",
    "demon = 0\n",
    "for i in range(length_x_test):\n",
    "    numer += (X[i] - mean_x_test) * (Y[i] - mean_y_pred)\n",
    "    demon += (X[i] - mean_x_test) ** 2\n",
    "m = numer / demon  # m\n",
    "c = mean_y_pred - (m * mean_x_test)  # c \n",
    "# y = mx + c\n",
    "x = np.linspace( np.amin(x_test)-100, np.amax(x_test)+100, 1000 )\n",
    "y = m*x + c\n",
    "\n",
    "# Ploting Line\n",
    "plt.plot(x, y, '-r', label='y=2x+1 Regression Line')\n",
    "plt.title('Testing Dataset')\n",
    "\n",
    "# plt.xticks(())\n",
    "# plt.yticks(())\n",
    "\n",
    "plt.show()"
   ]
  },
  {
   "cell_type": "code",
   "execution_count": null,
   "id": "0ab930c9",
   "metadata": {},
   "outputs": [],
   "source": []
  }
 ],
 "metadata": {
  "kernelspec": {
   "display_name": "Python 3 (ipykernel)",
   "language": "python",
   "name": "python3"
  },
  "language_info": {
   "codemirror_mode": {
    "name": "ipython",
    "version": 3
   },
   "file_extension": ".py",
   "mimetype": "text/x-python",
   "name": "python",
   "nbconvert_exporter": "python",
   "pygments_lexer": "ipython3",
   "version": "3.9.12"
  }
 },
 "nbformat": 4,
 "nbformat_minor": 5
}
